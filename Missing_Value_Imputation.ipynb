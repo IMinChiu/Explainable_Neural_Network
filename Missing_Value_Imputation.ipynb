{
  "nbformat": 4,
  "nbformat_minor": 0,
  "metadata": {
    "colab": {
      "name": "Missing Value Imputation",
      "provenance": [],
      "authorship_tag": "ABX9TyO2TY5JysG4vanSX2XyTRGq",
      "include_colab_link": true
    },
    "kernelspec": {
      "name": "python3",
      "display_name": "Python 3"
    },
    "language_info": {
      "name": "python"
    }
  },
  "cells": [
    {
      "cell_type": "markdown",
      "metadata": {
        "id": "view-in-github",
        "colab_type": "text"
      },
      "source": [
        "<a href=\"https://colab.research.google.com/github/outofray/Explainable_Neural_Network/blob/main/Missing_Value_Imputation.ipynb\" target=\"_parent\"><img src=\"https://colab.research.google.com/assets/colab-badge.svg\" alt=\"Open In Colab\"/></a>"
      ]
    },
    {
      "cell_type": "markdown",
      "metadata": {
        "id": "6tUVXufVz781"
      },
      "source": [
        "# Import library"
      ]
    },
    {
      "cell_type": "code",
      "metadata": {
        "id": "WrLZgs-HscBH"
      },
      "source": [
        "import numpy as np\n",
        "import tensorflow as tf\n",
        "import pandas as pd"
      ],
      "execution_count": null,
      "outputs": []
    },
    {
      "cell_type": "markdown",
      "metadata": {
        "id": "bM3nhe6Yues_"
      },
      "source": [
        "## Check Missing Values"
      ]
    },
    {
      "cell_type": "code",
      "metadata": {
        "id": "aVytS9R1uetM"
      },
      "source": [
        "df = pd.read_csv(file_path)\n",
        "\n",
        "# select the variables\n",
        "dataframe = df.iloc[:, 2:14]\n",
        "print(dataframe)"
      ],
      "execution_count": null,
      "outputs": []
    },
    {
      "cell_type": "code",
      "metadata": {
        "id": "vyHy_bnbuetN"
      },
      "source": [
        "# summarize the number of rows with missing values for each column\n",
        "for i in range(dataframe.shape[1]):\n",
        "\t# count number of rows with missing values\n",
        "\tn_miss = dataframe.iloc[:, [i]].isnull().sum()\n",
        "\tperc = n_miss / dataframe.shape[0] * 100\n",
        "\tprint('> %d, Missing: %d (%.1f%%)' % (dataframe.columns[i], n_miss, perc))"
      ],
      "execution_count": null,
      "outputs": []
    },
    {
      "cell_type": "markdown",
      "source": [
        "## Missing Vallue Imputation with KNN"
      ],
      "metadata": {
        "id": "JaOZ8tlP0ToC"
      }
    },
    {
      "cell_type": "code",
      "metadata": {
        "id": "eM1yHlmzuetN"
      },
      "source": [
        "from sklearn.impute import KNNImputer\n",
        "# split into input and output elements\n",
        "data = dataframe.values\n",
        "# define imputer\n",
        "imputer = KNNImputer(n_neighbors=5, weights='uniform', metric='nan_euclidean')\n",
        "imputed_data = imputer.fit_transform(data)"
      ],
      "execution_count": null,
      "outputs": []
    },
    {
      "cell_type": "code",
      "metadata": {
        "id": "9pU3tbTCuetN"
      },
      "source": [
        "new_data = pd.DataFrame(imputed_data)\n",
        "new_data.columns = dataframe.columns\n",
        "print(new_data)"
      ],
      "execution_count": null,
      "outputs": []
    },
    {
      "cell_type": "code",
      "metadata": {
        "id": "P91GNLtrmSS1"
      },
      "source": [
        "data.iloc[:, 2:14] = new_data"
      ],
      "execution_count": null,
      "outputs": []
    },
    {
      "cell_type": "code",
      "metadata": {
        "id": "IB483_lwVU4c"
      },
      "source": [
        "data.to_csv(\"imputed_data.csv\")"
      ],
      "execution_count": null,
      "outputs": []
    }
  ]
}