{
  "nbformat": 4,
  "nbformat_minor": 0,
  "metadata": {
    "colab": {
      "name": "Deep Neural Network",
      "provenance": [],
      "authorship_tag": "ABX9TyO3tdaTeYEJWiW7bKYRjYTM",
      "include_colab_link": true
    },
    "kernelspec": {
      "name": "python3",
      "display_name": "Python 3"
    },
    "language_info": {
      "name": "python"
    }
  },
  "cells": [
    {
      "cell_type": "markdown",
      "metadata": {
        "id": "view-in-github",
        "colab_type": "text"
      },
      "source": [
        "<a href=\"https://colab.research.google.com/github/outofray/Explainable_Neural_Network/blob/main/Deep_Neural_Network.ipynb\" target=\"_parent\"><img src=\"https://colab.research.google.com/assets/colab-badge.svg\" alt=\"Open In Colab\"/></a>"
      ]
    },
    {
      "cell_type": "markdown",
      "metadata": {
        "id": "6tUVXufVz781"
      },
      "source": [
        "# 1. Import library"
      ]
    },
    {
      "cell_type": "code",
      "metadata": {
        "id": "WrLZgs-HscBH"
      },
      "source": [
        "import numpy as np\n",
        "import tensorflow as tf\n",
        "import pandas as pd\n",
        "from sklearn.model_selection import train_test_split\n",
        "from sklearn.preprocessing import StandardScaler\n",
        "from tensorflow.keras.models import Sequential\n",
        "from tensorflow.keras.layers import Dense, Dropout, Activation, Attention\n",
        "from tensorflow.keras.optimizers import SGD, Adam, Adagrad"
      ],
      "execution_count": null,
      "outputs": []
    },
    {
      "cell_type": "markdown",
      "metadata": {
        "id": "BxvKahtj0Ctq"
      },
      "source": [
        "# 2. Mount google drive"
      ]
    },
    {
      "cell_type": "code",
      "metadata": {
        "colab": {
          "base_uri": "https://localhost:8080/"
        },
        "id": "q_BWbDmjssOZ",
        "outputId": "0c9a8951-030d-4879-e199-9691c7260831"
      },
      "source": [
        "from google.colab import drive\n",
        "drive.mount('/content/gdrive')"
      ],
      "execution_count": null,
      "outputs": [
        {
          "output_type": "stream",
          "name": "stdout",
          "text": [
            "Mounted at /content/gdrive\n"
          ]
        }
      ]
    },
    {
      "cell_type": "markdown",
      "metadata": {
        "id": "7Pl_u4c10VTB"
      },
      "source": [
        "# 4. Split train and validation set"
      ]
    },
    {
      "cell_type": "code",
      "metadata": {
        "id": "Jj-f2S4o9LwT"
      },
      "source": [
        "#Splitting the data into independent and dependent variables\n",
        "x = data.iloc[:,2:14]\n",
        "y = data.iloc[:,16]\n",
        "\n",
        "# Feature Scaling\n",
        "scaler = StandardScaler()\n",
        "x_train = scaler.fit_transform(x)\n",
        "\n",
        "y_train = np.array(y)\n",
        "\n",
        "print(x_train.shape)\n",
        "print(y_train.shape)"
      ],
      "execution_count": null,
      "outputs": []
    },
    {
      "cell_type": "code",
      "metadata": {
        "id": "-edIn2xqOP9b"
      },
      "source": [
        "x_test = data_test.iloc[:,2:14]\n",
        "y_test = data_test.iloc[:,16]\n",
        "\n",
        "x_test = np.array(x_test, dtype=np.float)\n",
        "y_test = np.array(y_test, dtype=np.float)\n",
        "\n",
        "# Feature Scaling\n",
        "x_test = scaler.fit_transform(x_test)\n",
        "\n",
        "print(x_test.shape)\n",
        "print(y_test.shape)"
      ],
      "execution_count": null,
      "outputs": []
    },
    {
      "cell_type": "markdown",
      "metadata": {
        "id": "Bjqk016DPo-2"
      },
      "source": [
        "## K-fold cross validation"
      ]
    },
    {
      "cell_type": "code",
      "metadata": {
        "id": "tUerbOj6zyRc"
      },
      "source": [
        "from sklearn.model_selection import StratifiedKFold\n",
        "\n",
        "loss = tf.keras.losses.BinaryCrossentropy()\n",
        "opt = tf.keras.optimizers.Adamax(learning_rate=0.0002)\n",
        "class_weight = {0: 1, 1: 100}\n",
        "\n",
        "kfold = StratifiedKFold(n_splits=5, shuffle=True, random_state=0)\n",
        "cvscores = []\n",
        "aucscore = []\n",
        "i=1\n",
        "\n",
        "for train, val in kfold.split(x_train, y_train):\n",
        "  #建構神經網路\n",
        "  model = Sequential()\n",
        "  model.add(Dense(32, input_dim=x_train.shape[1], activation='relu'))\n",
        "  model.add(Dense(64, activation='relu'))\n",
        "  model.add(Dense(64, activation='relu'))\n",
        "  model.add(Dense(64, activation='relu'))\n",
        "  model.add(Dense(32, activation='relu'))\n",
        "  model.add(Dropout(0.5))\n",
        "  #最後要增加一層接回分類數，softmax方式可以讓所有的組合機率相加為一\n",
        "  model.add(Dense(1, activation='sigmoid'))\n",
        "  model.compile(loss=loss, optimizer=opt, metrics=['accuracy'])\n",
        "\n",
        "  checkpoint_filepath = \"gdrive/MyDrive/IBI 60 days/IBI60/IBI60_best_weight_{}.hdf5\".format(i)\n",
        "  model_checkpoint = tf.keras.callbacks.ModelCheckpoint(\n",
        "      filepath=checkpoint_filepath, \n",
        "      save_best_only=True, \n",
        "      monitor='val_loss', #based on best val_loss\n",
        "      mode='auto', verbose=0)\n",
        "  callbacks = [model_checkpoint]\n",
        "\n",
        "  model.fit(x_train[train], y_train[train], epochs=50, batch_size=32, class_weight=class_weight, callbacks=callbacks, verbose=0, shuffle=True)\n",
        "\n",
        "  model.save(checkpoint_filepath)\n",
        "\n",
        "  model.load_weights(checkpoint_filepath)\n",
        "\n",
        "\t# evaluate the model\n",
        "  scores = model.evaluate(x_train[val], y_train[val], verbose=0)\n",
        "  print(\"%s: %.2f%%\" % (model.metrics_names[1], scores[1]*100))\n",
        "  cvscores.append(scores[1] * 100)\n",
        "\n",
        "  y_val_prob = model.predict(x_train[val])\n",
        "  print ('AUC value:{}'.format(roc_auc_score(y_train[val], y_val_prob)))\n",
        "  aucscore.append(roc_auc_score(y_train[val], y_val_prob))\n",
        "\n",
        "  i+=1\n",
        "\n",
        "print(\"Mean accuracy: %.2f%% (+/- %.2f%%)\" % (np.mean(cvscores), np.std(cvscores)))\n",
        "print(\"Mean AUC value: {:.2f} (+/- {:.2f})\".format(np.mean(aucscore), np.std(aucscore)))"
      ],
      "execution_count": null,
      "outputs": []
    }
  ]
}